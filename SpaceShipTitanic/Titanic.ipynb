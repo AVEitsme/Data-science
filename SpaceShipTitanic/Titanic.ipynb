{
 "cells": [
  {
   "cell_type": "code",
   "execution_count": 1,
   "id": "0bf1ac97",
   "metadata": {},
   "outputs": [
    {
     "name": "stderr",
     "output_type": "stream",
     "text": [
      "/home/aveitsme/envs/core/lib/python3.10/site-packages/tqdm/auto.py:22: TqdmWarning: IProgress not found. Please update jupyter and ipywidgets. See https://ipywidgets.readthedocs.io/en/stable/user_install.html\n",
      "  from .autonotebook import tqdm as notebook_tqdm\n"
     ]
    }
   ],
   "source": [
    "import optuna\n",
    "import pandas as pd\n",
    "import seaborn as sns\n",
    "import matplotlib.pyplot as plt\n",
    "import category_encoders as ce\n",
    "import numpy as np\n",
    "import scipy.cluster.hierarchy as sch\n",
    "\n",
    "from sklearn.model_selection import train_test_split, cross_val_score\n",
    "from sklearn.metrics import f1_score\n",
    "\n",
    "from lightgbm import LGBMClassifier\n",
    "from xgboost import XGBClassifier\n",
    "from typing import Callable"
   ]
  },
  {
   "cell_type": "markdown",
   "id": "29c904f5",
   "metadata": {},
   "source": [
    "\n",
    "* PassengerId - A unique Id for each passenger. Each Id takes the form gggg_pp where gggg indicates a group the passenger is travelling with and pp is their number within the group. People in a group are often family members, but not always.\n",
    "* HomePlanet - The planet the passenger departed from, typically their planet of permanent residence.\n",
    "* CryoSleep - Indicates whether the passenger elected to be put into suspended animation for the duration of the voyage. Passengers in cryosleep are confined to their cabins.\n",
    "* Cabin - The cabin number where the passenger is staying. Takes the form deck/num/side, where side can be either P for Port or S for Starboard.\n",
    "* Destination - The planet the passenger will be debarking to.\n",
    "* Age - The age of the passenger.\n",
    "* VIP - Whether the passenger has paid for special VIP service during the voyage.\n",
    "* RoomService, FoodCourt, ShoppingMall, Spa, VRDeck - Amount the passenger has billed at each of the Spaceship Titanic's many luxury amenities.\n",
    "* Name - The first and last names of the passenger.\n",
    "* Transported - Whether the passenger was transported to another dimension. This is the target, the column you are trying to predict."
   ]
  },
  {
   "cell_type": "markdown",
   "id": "c40ce897",
   "metadata": {},
   "source": [
    "# General functions"
   ]
  },
  {
   "cell_type": "code",
   "execution_count": 2,
   "id": "4a14ba67",
   "metadata": {},
   "outputs": [],
   "source": [
    "def unique_report(sample: pd.DataFrame | pd.Series, features: list[str]) -> None:\n",
    "    \"\"\"Print feature, count of unique values & unique values\"\"\"\n",
    "    for feature in features:\n",
    "        print(\n",
    "            f\"Feature: {feature}\\n \\\n",
    "            Unique values count: {sample[feature].unique().shape}\\n \\\n",
    "            Unique values: {sample[feature].unique()}\\n\"\n",
    "        )\n",
    "\n",
    "def plot_hists_box(sample: pd.DataFrame | pd.Series, features: list[str]) -> None:\n",
    "    \"\"\"Plot hist & plot for every feature in list\"\"\"\n",
    "    for feature in features:\n",
    "        fig, ax = plt.subplots(nrows=1, ncols=2, figsize=(10,4))\n",
    "        sns.histplot(data=sample, x=feature, ax=ax[0])\n",
    "        sns.boxplot(data=sample, x=feature, ax=ax[1])\n",
    "\n",
    "def plot_feature_importance(model, predictors, model_name):\n",
    "    \"\"\"Plot feature importance\"\"\"\n",
    "    feature_imp=pd.DataFrame(sorted(zip(model.feature_importances_, predictors.columns)), columns=['Value','Feature'])\n",
    "    plt.figure(figsize=(10, 10))\n",
    "    sns.barplot(x=\"Value\", y=\"Feature\", data=feature_imp.sort_values(by=\"Value\", ascending=False).iloc[:50])\n",
    "    plt.title(f\"{model_name} Most Important Features\")\n",
    "    plt.tight_layout()\n",
    "    plt.show()"
   ]
  },
  {
   "cell_type": "markdown",
   "id": "d8c8d5d7",
   "metadata": {},
   "source": [
    "# Special functions"
   ]
  },
  {
   "cell_type": "code",
   "execution_count": 3,
   "id": "02ae2249",
   "metadata": {},
   "outputs": [],
   "source": [
    "OPTUNA_EARLY_STOPING = 20\n",
    "\n",
    "class EarlyStoppingExceeded(optuna.exceptions.OptunaError):\n",
    "    \"\"\"Represents exception class that raised to stop tuning\"\"\"\n",
    "    early_stop = OPTUNA_EARLY_STOPING\n",
    "    early_stop_count = 0\n",
    "    best_score = None\n",
    "\n",
    "def early_stopping_opt(study, trial):\n",
    "    \"\"\"Callback to stop tuning if score remain the same\"\"\"\n",
    "    if EarlyStoppingExceeded.best_score == None:\n",
    "        EarlyStoppingExceeded.best_score = study.best_value\n",
    "    elif study.best_value < EarlyStoppingExceeded.best_score:\n",
    "        EarlyStoppingExceeded.best_score = study.best_value\n",
    "        EarlyStoppingExceeded.early_stop_count = 0\n",
    "    else:\n",
    "        if EarlyStoppingExceeded.early_stop_count > EarlyStoppingExceeded.early_stop:\n",
    "            EarlyStoppingExceeded.early_stop_count = 0\n",
    "            best_score = None\n",
    "            raise EarlyStoppingExceeded()\n",
    "        else:\n",
    "            EarlyStoppingExceeded.early_stop_count=EarlyStoppingExceeded.early_stop_count+1\n",
    "    return\n",
    "\n",
    "class Optimizer:\n",
    "    \"\"\"Represents class to tune hyper parameters using optuna\"\"\"\n",
    "    def __init__(self, train_x, train_y, model_class, scoring=\"f1\", cv=5):\n",
    "        self.train_x = train_x\n",
    "        self.train_y = train_y\n",
    "        self.model_class = model_class\n",
    "        self.scoring = scoring\n",
    "        self.cv = cv\n",
    "\n",
    "    def _objective(self, trial):\n",
    "        \"\"\"Objective function to tune hyperparameters\"\"\"\n",
    "        search_space = {\n",
    "            \"n_estimators\": trial.suggest_int(\"n_estimators\", 100, 500),\n",
    "            \"learning_rate\": trial.suggest_float(\"learning_rate\", 1e-8, 0.125),\n",
    "            \"max_depth\": trial.suggest_int(\"max_depth\", 2, 9),\n",
    "            \"subsample\": trial.suggest_float(\"subsample\", .5, 1.0),\n",
    "            \"min_child_weight\": trial.suggest_int(\"min_child_weight\", 1, 10, 1)\n",
    "        }\n",
    "        model = self.model_class(**search_space)\n",
    "        cross_valid_scores = cross_val_score(model, self.train_x, self.train_y, cv=5, scoring=self.scoring)\n",
    "\n",
    "        return cross_valid_scores.mean()\n",
    "\n",
    "    def run(self):\n",
    "        \"\"\"Run hyperparameters tuning\"\"\"\n",
    "        study = optuna.create_study(direction=\"maximize\", study_name=\"test\")\n",
    "        func = lambda trial: self._objective(trial)\n",
    "        try:\n",
    "            study.optimize(func, n_trials=100, show_progress_bar=True, callbacks=[early_stopping_opt])\n",
    "        except EarlyStoppingExceeded:\n",
    "             print(f\"EarlyStopping Exceeded: No new best scores on iters {OPTUNA_EARLY_STOPING}\")\n",
    "        return study.best_trial\n",
    "\n",
    "def train(model_class, predictors, target) -> float:\n",
    "    \"\"\"\n",
    "        Get optimal hyper parameters & fit model\n",
    "        Return f1_score & model\n",
    "    \"\"\"\n",
    "    train_x, test_x, train_y, test_y = train_test_split(\n",
    "        predictors,\n",
    "        target,\n",
    "        test_size=.2\n",
    "    )\n",
    "    optimizer = Optimizer(train_x, train_y, XGBClassifier)\n",
    "    best_trial = optimizer.run()\n",
    "    model = model_class(**best_trial.params).fit(train_x, train_y)\n",
    "    pred_y = model.predict(test_x)\n",
    "    return [f1_score(test_y, pred_y), model]"
   ]
  },
  {
   "cell_type": "markdown",
   "id": "484aeede",
   "metadata": {},
   "source": [
    "# Variables"
   ]
  },
  {
   "cell_type": "code",
   "execution_count": 4,
   "id": "03207933",
   "metadata": {},
   "outputs": [],
   "source": [
    "RAW = \"raw/train.csv\"\n",
    "PREPROCESSED = \"preprocessed/train.csv\"\n",
    "TARGET = \"Transported\""
   ]
  },
  {
   "cell_type": "code",
   "execution_count": 5,
   "id": "175e0393",
   "metadata": {},
   "outputs": [],
   "source": [
    "sample = pd.read_csv(RAW)"
   ]
  },
  {
   "cell_type": "markdown",
   "id": "3bd31ab0",
   "metadata": {},
   "source": [
    "# Explore data"
   ]
  },
  {
   "cell_type": "code",
   "execution_count": 6,
   "id": "6dfd2a8c",
   "metadata": {},
   "outputs": [
    {
     "data": {
      "text/plain": [
       "(8693, 14)"
      ]
     },
     "execution_count": 6,
     "metadata": {},
     "output_type": "execute_result"
    }
   ],
   "source": [
    "sample.shape"
   ]
  },
  {
   "cell_type": "code",
   "execution_count": 7,
   "id": "9cd4b549",
   "metadata": {},
   "outputs": [
    {
     "data": {
      "text/html": [
       "<div>\n",
       "<style scoped>\n",
       "    .dataframe tbody tr th:only-of-type {\n",
       "        vertical-align: middle;\n",
       "    }\n",
       "\n",
       "    .dataframe tbody tr th {\n",
       "        vertical-align: top;\n",
       "    }\n",
       "\n",
       "    .dataframe thead th {\n",
       "        text-align: right;\n",
       "    }\n",
       "</style>\n",
       "<table border=\"1\" class=\"dataframe\">\n",
       "  <thead>\n",
       "    <tr style=\"text-align: right;\">\n",
       "      <th></th>\n",
       "      <th>PassengerId</th>\n",
       "      <th>HomePlanet</th>\n",
       "      <th>CryoSleep</th>\n",
       "      <th>Cabin</th>\n",
       "      <th>Destination</th>\n",
       "      <th>Age</th>\n",
       "      <th>VIP</th>\n",
       "      <th>RoomService</th>\n",
       "      <th>FoodCourt</th>\n",
       "      <th>ShoppingMall</th>\n",
       "      <th>Spa</th>\n",
       "      <th>VRDeck</th>\n",
       "      <th>Name</th>\n",
       "      <th>Transported</th>\n",
       "    </tr>\n",
       "  </thead>\n",
       "  <tbody>\n",
       "    <tr>\n",
       "      <th>0</th>\n",
       "      <td>0001_01</td>\n",
       "      <td>Europa</td>\n",
       "      <td>False</td>\n",
       "      <td>B/0/P</td>\n",
       "      <td>TRAPPIST-1e</td>\n",
       "      <td>39.0</td>\n",
       "      <td>False</td>\n",
       "      <td>0.0</td>\n",
       "      <td>0.0</td>\n",
       "      <td>0.0</td>\n",
       "      <td>0.0</td>\n",
       "      <td>0.0</td>\n",
       "      <td>Maham Ofracculy</td>\n",
       "      <td>False</td>\n",
       "    </tr>\n",
       "    <tr>\n",
       "      <th>1</th>\n",
       "      <td>0002_01</td>\n",
       "      <td>Earth</td>\n",
       "      <td>False</td>\n",
       "      <td>F/0/S</td>\n",
       "      <td>TRAPPIST-1e</td>\n",
       "      <td>24.0</td>\n",
       "      <td>False</td>\n",
       "      <td>109.0</td>\n",
       "      <td>9.0</td>\n",
       "      <td>25.0</td>\n",
       "      <td>549.0</td>\n",
       "      <td>44.0</td>\n",
       "      <td>Juanna Vines</td>\n",
       "      <td>True</td>\n",
       "    </tr>\n",
       "    <tr>\n",
       "      <th>2</th>\n",
       "      <td>0003_01</td>\n",
       "      <td>Europa</td>\n",
       "      <td>False</td>\n",
       "      <td>A/0/S</td>\n",
       "      <td>TRAPPIST-1e</td>\n",
       "      <td>58.0</td>\n",
       "      <td>True</td>\n",
       "      <td>43.0</td>\n",
       "      <td>3576.0</td>\n",
       "      <td>0.0</td>\n",
       "      <td>6715.0</td>\n",
       "      <td>49.0</td>\n",
       "      <td>Altark Susent</td>\n",
       "      <td>False</td>\n",
       "    </tr>\n",
       "    <tr>\n",
       "      <th>3</th>\n",
       "      <td>0003_02</td>\n",
       "      <td>Europa</td>\n",
       "      <td>False</td>\n",
       "      <td>A/0/S</td>\n",
       "      <td>TRAPPIST-1e</td>\n",
       "      <td>33.0</td>\n",
       "      <td>False</td>\n",
       "      <td>0.0</td>\n",
       "      <td>1283.0</td>\n",
       "      <td>371.0</td>\n",
       "      <td>3329.0</td>\n",
       "      <td>193.0</td>\n",
       "      <td>Solam Susent</td>\n",
       "      <td>False</td>\n",
       "    </tr>\n",
       "    <tr>\n",
       "      <th>4</th>\n",
       "      <td>0004_01</td>\n",
       "      <td>Earth</td>\n",
       "      <td>False</td>\n",
       "      <td>F/1/S</td>\n",
       "      <td>TRAPPIST-1e</td>\n",
       "      <td>16.0</td>\n",
       "      <td>False</td>\n",
       "      <td>303.0</td>\n",
       "      <td>70.0</td>\n",
       "      <td>151.0</td>\n",
       "      <td>565.0</td>\n",
       "      <td>2.0</td>\n",
       "      <td>Willy Santantines</td>\n",
       "      <td>True</td>\n",
       "    </tr>\n",
       "  </tbody>\n",
       "</table>\n",
       "</div>"
      ],
      "text/plain": [
       "  PassengerId HomePlanet CryoSleep  Cabin  Destination   Age    VIP  \\\n",
       "0     0001_01     Europa     False  B/0/P  TRAPPIST-1e  39.0  False   \n",
       "1     0002_01      Earth     False  F/0/S  TRAPPIST-1e  24.0  False   \n",
       "2     0003_01     Europa     False  A/0/S  TRAPPIST-1e  58.0   True   \n",
       "3     0003_02     Europa     False  A/0/S  TRAPPIST-1e  33.0  False   \n",
       "4     0004_01      Earth     False  F/1/S  TRAPPIST-1e  16.0  False   \n",
       "\n",
       "   RoomService  FoodCourt  ShoppingMall     Spa  VRDeck               Name  \\\n",
       "0          0.0        0.0           0.0     0.0     0.0    Maham Ofracculy   \n",
       "1        109.0        9.0          25.0   549.0    44.0       Juanna Vines   \n",
       "2         43.0     3576.0           0.0  6715.0    49.0      Altark Susent   \n",
       "3          0.0     1283.0         371.0  3329.0   193.0       Solam Susent   \n",
       "4        303.0       70.0         151.0   565.0     2.0  Willy Santantines   \n",
       "\n",
       "   Transported  \n",
       "0        False  \n",
       "1         True  \n",
       "2        False  \n",
       "3        False  \n",
       "4         True  "
      ]
     },
     "execution_count": 7,
     "metadata": {},
     "output_type": "execute_result"
    }
   ],
   "source": [
    "sample.head()"
   ]
  },
  {
   "cell_type": "code",
   "execution_count": 8,
   "id": "86bdcaf7",
   "metadata": {},
   "outputs": [
    {
     "name": "stdout",
     "output_type": "stream",
     "text": [
      "<class 'pandas.core.frame.DataFrame'>\n",
      "RangeIndex: 8693 entries, 0 to 8692\n",
      "Data columns (total 14 columns):\n",
      " #   Column        Non-Null Count  Dtype  \n",
      "---  ------        --------------  -----  \n",
      " 0   PassengerId   8693 non-null   object \n",
      " 1   HomePlanet    8492 non-null   object \n",
      " 2   CryoSleep     8476 non-null   object \n",
      " 3   Cabin         8494 non-null   object \n",
      " 4   Destination   8511 non-null   object \n",
      " 5   Age           8514 non-null   float64\n",
      " 6   VIP           8490 non-null   object \n",
      " 7   RoomService   8512 non-null   float64\n",
      " 8   FoodCourt     8510 non-null   float64\n",
      " 9   ShoppingMall  8485 non-null   float64\n",
      " 10  Spa           8510 non-null   float64\n",
      " 11  VRDeck        8505 non-null   float64\n",
      " 12  Name          8493 non-null   object \n",
      " 13  Transported   8693 non-null   bool   \n",
      "dtypes: bool(1), float64(6), object(7)\n",
      "memory usage: 891.5+ KB\n"
     ]
    }
   ],
   "source": [
    "sample.info()"
   ]
  },
  {
   "cell_type": "code",
   "execution_count": 9,
   "id": "8e959a44",
   "metadata": {},
   "outputs": [
    {
     "data": {
      "text/plain": [
       "PassengerId       0\n",
       "HomePlanet      201\n",
       "CryoSleep       217\n",
       "Cabin           199\n",
       "Destination     182\n",
       "Age             179\n",
       "VIP             203\n",
       "RoomService     181\n",
       "FoodCourt       183\n",
       "ShoppingMall    208\n",
       "Spa             183\n",
       "VRDeck          188\n",
       "Name            200\n",
       "Transported       0\n",
       "dtype: int64"
      ]
     },
     "execution_count": 9,
     "metadata": {},
     "output_type": "execute_result"
    }
   ],
   "source": [
    "sample.isnull().sum()"
   ]
  },
  {
   "cell_type": "code",
   "execution_count": 10,
   "id": "72914622",
   "metadata": {},
   "outputs": [
    {
     "data": {
      "text/html": [
       "<div>\n",
       "<style scoped>\n",
       "    .dataframe tbody tr th:only-of-type {\n",
       "        vertical-align: middle;\n",
       "    }\n",
       "\n",
       "    .dataframe tbody tr th {\n",
       "        vertical-align: top;\n",
       "    }\n",
       "\n",
       "    .dataframe thead th {\n",
       "        text-align: right;\n",
       "    }\n",
       "</style>\n",
       "<table border=\"1\" class=\"dataframe\">\n",
       "  <thead>\n",
       "    <tr style=\"text-align: right;\">\n",
       "      <th></th>\n",
       "      <th>Age</th>\n",
       "      <th>RoomService</th>\n",
       "      <th>FoodCourt</th>\n",
       "      <th>ShoppingMall</th>\n",
       "      <th>Spa</th>\n",
       "      <th>VRDeck</th>\n",
       "    </tr>\n",
       "  </thead>\n",
       "  <tbody>\n",
       "    <tr>\n",
       "      <th>count</th>\n",
       "      <td>8514.000000</td>\n",
       "      <td>8512.000000</td>\n",
       "      <td>8510.000000</td>\n",
       "      <td>8485.000000</td>\n",
       "      <td>8510.000000</td>\n",
       "      <td>8505.000000</td>\n",
       "    </tr>\n",
       "    <tr>\n",
       "      <th>mean</th>\n",
       "      <td>28.827930</td>\n",
       "      <td>224.687617</td>\n",
       "      <td>458.077203</td>\n",
       "      <td>173.729169</td>\n",
       "      <td>311.138778</td>\n",
       "      <td>304.854791</td>\n",
       "    </tr>\n",
       "    <tr>\n",
       "      <th>std</th>\n",
       "      <td>14.489021</td>\n",
       "      <td>666.717663</td>\n",
       "      <td>1611.489240</td>\n",
       "      <td>604.696458</td>\n",
       "      <td>1136.705535</td>\n",
       "      <td>1145.717189</td>\n",
       "    </tr>\n",
       "    <tr>\n",
       "      <th>min</th>\n",
       "      <td>0.000000</td>\n",
       "      <td>0.000000</td>\n",
       "      <td>0.000000</td>\n",
       "      <td>0.000000</td>\n",
       "      <td>0.000000</td>\n",
       "      <td>0.000000</td>\n",
       "    </tr>\n",
       "    <tr>\n",
       "      <th>25%</th>\n",
       "      <td>19.000000</td>\n",
       "      <td>0.000000</td>\n",
       "      <td>0.000000</td>\n",
       "      <td>0.000000</td>\n",
       "      <td>0.000000</td>\n",
       "      <td>0.000000</td>\n",
       "    </tr>\n",
       "    <tr>\n",
       "      <th>50%</th>\n",
       "      <td>27.000000</td>\n",
       "      <td>0.000000</td>\n",
       "      <td>0.000000</td>\n",
       "      <td>0.000000</td>\n",
       "      <td>0.000000</td>\n",
       "      <td>0.000000</td>\n",
       "    </tr>\n",
       "    <tr>\n",
       "      <th>75%</th>\n",
       "      <td>38.000000</td>\n",
       "      <td>47.000000</td>\n",
       "      <td>76.000000</td>\n",
       "      <td>27.000000</td>\n",
       "      <td>59.000000</td>\n",
       "      <td>46.000000</td>\n",
       "    </tr>\n",
       "    <tr>\n",
       "      <th>max</th>\n",
       "      <td>79.000000</td>\n",
       "      <td>14327.000000</td>\n",
       "      <td>29813.000000</td>\n",
       "      <td>23492.000000</td>\n",
       "      <td>22408.000000</td>\n",
       "      <td>24133.000000</td>\n",
       "    </tr>\n",
       "  </tbody>\n",
       "</table>\n",
       "</div>"
      ],
      "text/plain": [
       "               Age   RoomService     FoodCourt  ShoppingMall           Spa  \\\n",
       "count  8514.000000   8512.000000   8510.000000   8485.000000   8510.000000   \n",
       "mean     28.827930    224.687617    458.077203    173.729169    311.138778   \n",
       "std      14.489021    666.717663   1611.489240    604.696458   1136.705535   \n",
       "min       0.000000      0.000000      0.000000      0.000000      0.000000   \n",
       "25%      19.000000      0.000000      0.000000      0.000000      0.000000   \n",
       "50%      27.000000      0.000000      0.000000      0.000000      0.000000   \n",
       "75%      38.000000     47.000000     76.000000     27.000000     59.000000   \n",
       "max      79.000000  14327.000000  29813.000000  23492.000000  22408.000000   \n",
       "\n",
       "             VRDeck  \n",
       "count   8505.000000  \n",
       "mean     304.854791  \n",
       "std     1145.717189  \n",
       "min        0.000000  \n",
       "25%        0.000000  \n",
       "50%        0.000000  \n",
       "75%       46.000000  \n",
       "max    24133.000000  "
      ]
     },
     "execution_count": 10,
     "metadata": {},
     "output_type": "execute_result"
    }
   ],
   "source": [
    "sample.describe()"
   ]
  },
  {
   "cell_type": "code",
   "execution_count": 11,
   "id": "ba59dc53",
   "metadata": {},
   "outputs": [
    {
     "name": "stdout",
     "output_type": "stream",
     "text": [
      "Feature: PassengerId\n",
      "             Unique values count: (8693,)\n",
      "             Unique values: ['0001_01' '0002_01' '0003_01' ... '9279_01' '9280_01' '9280_02']\n",
      "\n",
      "Feature: HomePlanet\n",
      "             Unique values count: (4,)\n",
      "             Unique values: ['Europa' 'Earth' 'Mars' nan]\n",
      "\n",
      "Feature: CryoSleep\n",
      "             Unique values count: (3,)\n",
      "             Unique values: [False True nan]\n",
      "\n",
      "Feature: Cabin\n",
      "             Unique values count: (6561,)\n",
      "             Unique values: ['B/0/P' 'F/0/S' 'A/0/S' ... 'G/1499/S' 'G/1500/S' 'E/608/S']\n",
      "\n",
      "Feature: Destination\n",
      "             Unique values count: (4,)\n",
      "             Unique values: ['TRAPPIST-1e' 'PSO J318.5-22' '55 Cancri e' nan]\n",
      "\n",
      "Feature: Age\n",
      "             Unique values count: (81,)\n",
      "             Unique values: [39. 24. 58. 33. 16. 44. 26. 28. 35. 14. 34. 45. 32. 48. 31. 27.  0.  1.\n",
      " 49. 29. 10.  7. 21. 62. 15. 43. 47.  2. 20. 23. 30. 17. 55.  4. 19. 56.\n",
      " nan 25. 38. 36. 22. 18. 42. 37. 13.  8. 40.  3. 54.  9.  6. 64. 67. 61.\n",
      " 50. 41. 57. 11. 52. 51. 46. 60. 63. 59.  5. 79. 68. 74. 12. 53. 65. 71.\n",
      " 75. 70. 76. 78. 73. 66. 69. 72. 77.]\n",
      "\n",
      "Feature: VIP\n",
      "             Unique values count: (3,)\n",
      "             Unique values: [False True nan]\n",
      "\n",
      "Feature: RoomService\n",
      "             Unique values count: (1274,)\n",
      "             Unique values: [   0.  109.   43. ... 1569. 8586.  745.]\n",
      "\n",
      "Feature: FoodCourt\n",
      "             Unique values count: (1508,)\n",
      "             Unique values: [   0.    9. 3576. ... 3208. 6819. 4688.]\n",
      "\n",
      "Feature: ShoppingMall\n",
      "             Unique values count: (1116,)\n",
      "             Unique values: [   0.   25.  371. ... 1085.  510. 1872.]\n",
      "\n",
      "Feature: Spa\n",
      "             Unique values count: (1328,)\n",
      "             Unique values: [   0.  549. 6715. ... 2868. 1107. 1643.]\n",
      "\n",
      "Feature: VRDeck\n",
      "             Unique values count: (1307,)\n",
      "             Unique values: [   0.   44.   49. ... 1164.  971. 3235.]\n",
      "\n",
      "Feature: Name\n",
      "             Unique values count: (8474,)\n",
      "             Unique values: ['Maham Ofracculy' 'Juanna Vines' 'Altark Susent' ... 'Fayey Connon'\n",
      " 'Celeon Hontichre' 'Propsh Hontichre']\n",
      "\n",
      "Feature: Transported\n",
      "             Unique values count: (2,)\n",
      "             Unique values: [False  True]\n",
      "\n"
     ]
    }
   ],
   "source": [
    "unique_report(sample, sample.columns)"
   ]
  },
  {
   "cell_type": "code",
   "execution_count": 12,
   "id": "69dab5cb",
   "metadata": {},
   "outputs": [
    {
     "data": {
      "image/png": "[encoded data removed]",
      "text/plain": [
       "<Figure size 1000x400 with 2 Axes>"
      ]
     },
     "metadata": {},
     "output_type": "display_data"
    },
    {
     "data": {
      "image/png": "[encoded data removed]",
      "text/plain": [
       "<Figure size 1000x400 with 2 Axes>"
      ]
     },
     "metadata": {},
     "output_type": "display_data"
    },
    {
     "data": {
      "image/png": "[encoded data removed]",
      "text/plain": [
       "<Figure size 1000x400 with 2 Axes>"
      ]
     },
     "metadata": {},
     "output_type": "display_data"
    },
    {
     "data": {
      "image/png": "[encoded data removed]",
      "text/plain": [
       "<Figure size 1000x400 with 2 Axes>"
      ]
     },
     "metadata": {},
     "output_type": "display_data"
    },
    {
     "data": {
      "image/png": "[encoded data removed]",
      "text/plain": [
       "<Figure size 1000x400 with 2 Axes>"
      ]
     },
     "metadata": {},
     "output_type": "display_data"
    },
    {
     "data": {
      "image/png": "[encoded data removed]",
      "text/plain": [
       "<Figure size 1000x400 with 2 Axes>"
      ]
     },
     "metadata": {},
     "output_type": "display_data"
    }
   ],
   "source": [
    "numeric_cols = sample.select_dtypes('number').columns \n",
    "plot_hists_box(sample, numeric_cols)"
   ]
  },
  {
   "cell_type": "markdown",
   "id": "054aeb4d",
   "metadata": {},
   "source": [
    "# First look\n",
    "\n",
    "- General\n",
    "    * NaN values\n",
    "    * Outliers\n",
    "    * Hidden features\n",
    "    * Wrong dtypes"
   ]
  },
  {
   "cell_type": "markdown",
   "id": "3bb8d414",
   "metadata": {},
   "source": [
    "# Outliers & NaN values"
   ]
  },
  {
   "cell_type": "code",
   "execution_count": 13,
   "id": "13dd2f73",
   "metadata": {},
   "outputs": [
    {
     "data": {
      "image/png": "[encoded data removed]",
      "text/plain": [
       "<Figure size 1000x400 with 2 Axes>"
      ]
     },
     "metadata": {},
     "output_type": "display_data"
    },
    {
     "data": {
      "image/png": "[encoded data removed]",
      "text/plain": [
       "<Figure size 1000x400 with 2 Axes>"
      ]
     },
     "metadata": {},
     "output_type": "display_data"
    },
    {
     "data": {
      "image/png": "[encoded data removed]",
      "text/plain": [
       "<Figure size 1000x400 with 2 Axes>"
      ]
     },
     "metadata": {},
     "output_type": "display_data"
    },
    {
     "data": {
      "image/png": "[encoded data removed]",
      "text/plain": [
       "<Figure size 1000x400 with 2 Axes>"
      ]
     },
     "metadata": {},
     "output_type": "display_data"
    },
    {
     "data": {
      "image/png": "[encoded data removed]",
      "text/plain": [
       "<Figure size 1000x400 with 2 Axes>"
      ]
     },
     "metadata": {},
     "output_type": "display_data"
    }
   ],
   "source": [
    "out_cols = [\"RoomService\", \"FoodCourt\", \"ShoppingMall\", \"Spa\", \"VRDeck\"]\n",
    "sample.loc[:, out_cols] = np.log(sample.loc[:, out_cols] + 1) \n",
    "plot_hists_box(sample, out_cols)"
   ]
  },
  {
   "cell_type": "markdown",
   "id": "adefedc9",
   "metadata": {},
   "source": [
    "There are a lot of outliers.\n",
    "<br> \n",
    "So the simplest solution according to distributions (Looks like there is two different classes) is to replace values of all these features with:\n",
    "   - 0 - didn't spent money\n",
    "   - 1 - spent money\n",
    "\n",
    "In this case, i don't see the way to process NaN values. So, KISS, drop NA (If you have a better solution, please, tell me)."
   ]
  },
  {
   "cell_type": "code",
   "execution_count": 14,
   "id": "10d1f8e8",
   "metadata": {},
   "outputs": [],
   "source": [
    "sample = sample.dropna()"
   ]
  },
  {
   "cell_type": "code",
   "execution_count": 15,
   "id": "ab162781",
   "metadata": {},
   "outputs": [
    {
     "data": {
      "text/plain": [
       "(6606, 14)"
      ]
     },
     "execution_count": 15,
     "metadata": {},
     "output_type": "execute_result"
    }
   ],
   "source": [
    "sample.shape"
   ]
  },
  {
   "cell_type": "code",
   "execution_count": 16,
   "id": "552a40cd",
   "metadata": {},
   "outputs": [],
   "source": [
    "for col in out_cols:\n",
    "    sample[col] = sample.loc[:, col].apply(lambda x: 0 if x == 0.0 else 1)"
   ]
  },
  {
   "cell_type": "markdown",
   "id": "c5defde6",
   "metadata": {},
   "source": [
    "# Wrong dtypes"
   ]
  },
  {
   "cell_type": "markdown",
   "id": "19074d7d",
   "metadata": {},
   "source": [
    "Age: I'm going to use catboost encoder for categorical (bin counts), so I think that converting age to categorical is not such a bad idea. \n",
    "<br>\n",
    "As I said, there are a couple wrong dtypes, let's fix it!  "
   ]
  },
  {
   "cell_type": "code",
   "execution_count": 17,
   "id": "a6a755f4",
   "metadata": {},
   "outputs": [],
   "source": [
    "sample[TARGET] = sample[TARGET].astype(int)\n",
    "sample[\"Age\"] = sample[\"Age\"].astype(str)\n",
    "sample[\"CryoSleep\"] = sample[\"CryoSleep\"].astype(int) \n",
    "sample[\"VIP\"] = sample[\"VIP\"].astype(int)"
   ]
  },
  {
   "cell_type": "code",
   "execution_count": 18,
   "id": "e8c43cad",
   "metadata": {},
   "outputs": [
    {
     "data": {
      "text/plain": [
       "PassengerId     0\n",
       "HomePlanet      0\n",
       "CryoSleep       0\n",
       "Cabin           0\n",
       "Destination     0\n",
       "Age             0\n",
       "VIP             0\n",
       "RoomService     0\n",
       "FoodCourt       0\n",
       "ShoppingMall    0\n",
       "Spa             0\n",
       "VRDeck          0\n",
       "Name            0\n",
       "Transported     0\n",
       "dtype: int64"
      ]
     },
     "execution_count": 18,
     "metadata": {},
     "output_type": "execute_result"
    }
   ],
   "source": [
    "sample.isnull().sum()"
   ]
  },
  {
   "cell_type": "markdown",
   "id": "ffbb197b",
   "metadata": {},
   "source": [
    "# Categorical features"
   ]
  },
  {
   "cell_type": "markdown",
   "id": "d5b705dd",
   "metadata": {},
   "source": [
    "Cabin description: \"Takes the form deck/num/side, where side can be either P for Port or S for Starboard.\"\n",
    "<br>\n",
    "So we can split this value by '/' and get 3 new features!"
   ]
  },
  {
   "cell_type": "code",
   "execution_count": 19,
   "id": "dc4a6aa4",
   "metadata": {},
   "outputs": [
    {
     "data": {
      "text/html": [
       "<div>\n",
       "<style scoped>\n",
       "    .dataframe tbody tr th:only-of-type {\n",
       "        vertical-align: middle;\n",
       "    }\n",
       "\n",
       "    .dataframe tbody tr th {\n",
       "        vertical-align: top;\n",
       "    }\n",
       "\n",
       "    .dataframe thead th {\n",
       "        text-align: right;\n",
       "    }\n",
       "</style>\n",
       "<table border=\"1\" class=\"dataframe\">\n",
       "  <thead>\n",
       "    <tr style=\"text-align: right;\">\n",
       "      <th></th>\n",
       "      <th>deck</th>\n",
       "      <th>num</th>\n",
       "      <th>side</th>\n",
       "    </tr>\n",
       "  </thead>\n",
       "  <tbody>\n",
       "    <tr>\n",
       "      <th>0</th>\n",
       "      <td>B</td>\n",
       "      <td>0</td>\n",
       "      <td>P</td>\n",
       "    </tr>\n",
       "    <tr>\n",
       "      <th>1</th>\n",
       "      <td>F</td>\n",
       "      <td>0</td>\n",
       "      <td>S</td>\n",
       "    </tr>\n",
       "    <tr>\n",
       "      <th>2</th>\n",
       "      <td>A</td>\n",
       "      <td>0</td>\n",
       "      <td>S</td>\n",
       "    </tr>\n",
       "    <tr>\n",
       "      <th>3</th>\n",
       "      <td>A</td>\n",
       "      <td>0</td>\n",
       "      <td>S</td>\n",
       "    </tr>\n",
       "    <tr>\n",
       "      <th>4</th>\n",
       "      <td>F</td>\n",
       "      <td>1</td>\n",
       "      <td>S</td>\n",
       "    </tr>\n",
       "    <tr>\n",
       "      <th>...</th>\n",
       "      <td>...</td>\n",
       "      <td>...</td>\n",
       "      <td>...</td>\n",
       "    </tr>\n",
       "    <tr>\n",
       "      <th>8688</th>\n",
       "      <td>A</td>\n",
       "      <td>98</td>\n",
       "      <td>P</td>\n",
       "    </tr>\n",
       "    <tr>\n",
       "      <th>8689</th>\n",
       "      <td>G</td>\n",
       "      <td>1499</td>\n",
       "      <td>S</td>\n",
       "    </tr>\n",
       "    <tr>\n",
       "      <th>8690</th>\n",
       "      <td>G</td>\n",
       "      <td>1500</td>\n",
       "      <td>S</td>\n",
       "    </tr>\n",
       "    <tr>\n",
       "      <th>8691</th>\n",
       "      <td>E</td>\n",
       "      <td>608</td>\n",
       "      <td>S</td>\n",
       "    </tr>\n",
       "    <tr>\n",
       "      <th>8692</th>\n",
       "      <td>E</td>\n",
       "      <td>608</td>\n",
       "      <td>S</td>\n",
       "    </tr>\n",
       "  </tbody>\n",
       "</table>\n",
       "<p>6606 rows × 3 columns</p>\n",
       "</div>"
      ],
      "text/plain": [
       "     deck   num side\n",
       "0       B     0    P\n",
       "1       F     0    S\n",
       "2       A     0    S\n",
       "3       A     0    S\n",
       "4       F     1    S\n",
       "...   ...   ...  ...\n",
       "8688    A    98    P\n",
       "8689    G  1499    S\n",
       "8690    G  1500    S\n",
       "8691    E   608    S\n",
       "8692    E   608    S\n",
       "\n",
       "[6606 rows x 3 columns]"
      ]
     },
     "execution_count": 19,
     "metadata": {},
     "output_type": "execute_result"
    }
   ],
   "source": [
    "sample[[\"deck\", \"num\", \"side\"]] = sample[\"Cabin\"].str.split('/', expand=True)\n",
    "sample[[\"deck\", \"num\", \"side\"]]"
   ]
  },
  {
   "cell_type": "markdown",
   "id": "69378a1c",
   "metadata": {},
   "source": [
    "Id description: \"Each Id takes the form gggg_pp where gggg indicates a group the passenger...\" \n",
    "<br>\n",
    "We don't really need unique number of passenger, but we can extract his group. "
   ]
  },
  {
   "cell_type": "code",
   "execution_count": 20,
   "id": "cefc3fad",
   "metadata": {},
   "outputs": [],
   "source": [
    "sample[\"Group\"] = sample[\"PassengerId\"].str.split('_', expand=True)[0]\n",
    "sample[\"Group\"]"
   ]
  },
  {
   "cell_type": "markdown",
   "id": "0090e262",
   "metadata": {},
   "source": [
    "We can use surname as indicator of family.\n",
    "<br>\n",
    "Although there could be namesakes, we extracted groups, which could help us indicate families. "
   ]
  },
  {
   "cell_type": "code",
   "execution_count": 21,
   "id": "debc0838",
   "metadata": {},
   "outputs": [],
   "source": [
    "sample[\"Surname\"] = sample[\"Name\"].str.split(' ', expand=True)[1]\n",
    "sample[\"Surname\"]"
   ]
  },
  {
   "cell_type": "code",
   "execution_count": 22,
   "id": "e9fa5403",
   "metadata": {},
   "outputs": [],
   "source": [
    "sample = sample.drop(columns = [\"Cabin\", \"Name\", \"PassengerId\"])"
   ]
  },
  {
   "cell_type": "markdown",
   "id": "fc77628b",
   "metadata": {},
   "source": [
    "# Look at the unique values again"
   ]
  },
  {
   "cell_type": "code",
   "execution_count": 23,
   "id": "ca288351",
   "metadata": {},
   "outputs": [
    {
     "name": "stdout",
     "output_type": "stream",
     "text": [
      "Feature: HomePlanet\n",
      "             Unique values count: (3,)\n",
      "             Unique values: ['Europa' 'Earth' 'Mars']\n",
      "\n",
      "Feature: Destination\n",
      "             Unique values count: (3,)\n",
      "             Unique values: ['TRAPPIST-1e' 'PSO J318.5-22' '55 Cancri e']\n",
      "\n",
      "Feature: Age\n",
      "             Unique values count: (80,)\n",
      "             Unique values: ['39.0' '24.0' '58.0' '33.0' '16.0' '44.0' '26.0' '35.0' '14.0' '45.0'\n",
      " '32.0' '48.0' '28.0' '0.0' '1.0' '49.0' '10.0' '7.0' '15.0' '34.0' '43.0'\n",
      " '47.0' '2.0' '23.0' '20.0' '17.0' '55.0' '4.0' '21.0' '56.0' '25.0'\n",
      " '38.0' '27.0' '36.0' '22.0' '62.0' '18.0' '19.0' '37.0' '42.0' '13.0'\n",
      " '40.0' '3.0' '54.0' '9.0' '6.0' '29.0' '64.0' '67.0' '61.0' '50.0' '31.0'\n",
      " '8.0' '51.0' '11.0' '41.0' '30.0' '46.0' '60.0' '63.0' '57.0' '5.0'\n",
      " '79.0' '68.0' '59.0' '74.0' '12.0' '65.0' '53.0' '71.0' '52.0' '75.0'\n",
      " '76.0' '78.0' '70.0' '73.0' '66.0' '69.0' '72.0' '77.0']\n",
      "\n",
      "Feature: deck\n",
      "             Unique values count: (8,)\n",
      "             Unique values: ['B' 'F' 'A' 'G' 'E' 'C' 'D' 'T']\n",
      "\n",
      "Feature: num\n",
      "             Unique values count: (1734,)\n",
      "             Unique values: ['0' '1' '2' ... '1894' '1499' '608']\n",
      "\n",
      "Feature: side\n",
      "             Unique values count: (2,)\n",
      "             Unique values: ['P' 'S']\n",
      "\n",
      "Feature: Group\n",
      "             Unique values count: (5015,)\n",
      "             Unique values: ['0001' '0002' '0003' ... '9278' '9279' '9280']\n",
      "\n",
      "Feature: Surname\n",
      "             Unique values count: (2112,)\n",
      "             Unique values: ['Ofracculy' 'Vines' 'Susent' ... 'Stranbeate' 'Sionerorly' 'Hontichre']\n",
      "\n"
     ]
    }
   ],
   "source": [
    "str_cols = sample.select_dtypes('object').columns\n",
    "unique_report(sample, str_cols)"
   ]
  },
  {
   "cell_type": "markdown",
   "id": "565a5798",
   "metadata": {},
   "source": [
    "# Run catboost encoder to process categorical"
   ]
  },
  {
   "cell_type": "code",
   "execution_count": 27,
   "id": "0d522c2c",
   "metadata": {},
   "outputs": [],
   "source": [
    "encoder = ce.cat_boost.CatBoostEncoder()\n",
    "encoder.fit(sample[str_cols], sample[TARGET])\n",
    "sample[str_cols] = encoder.transform(sample.loc[:, str_cols])"
   ]
  },
  {
   "cell_type": "markdown",
   "id": "83621190",
   "metadata": {},
   "source": [
    "# Look at the data"
   ]
  },
  {
   "cell_type": "code",
   "execution_count": 38,
   "id": "755930a6",
   "metadata": {},
   "outputs": [
    {
     "data": {
      "text/html": [
       "<div>\n",
       "<style scoped>\n",
       "    .dataframe tbody tr th:only-of-type {\n",
       "        vertical-align: middle;\n",
       "    }\n",
       "\n",
       "    .dataframe tbody tr th {\n",
       "        vertical-align: top;\n",
       "    }\n",
       "\n",
       "    .dataframe thead th {\n",
       "        text-align: right;\n",
       "    }\n",
       "</style>\n",
       "<table border=\"1\" class=\"dataframe\">\n",
       "  <thead>\n",
       "    <tr style=\"text-align: right;\">\n",
       "      <th></th>\n",
       "      <th>HomePlanet</th>\n",
       "      <th>CryoSleep</th>\n",
       "      <th>Destination</th>\n",
       "      <th>Age</th>\n",
       "      <th>VIP</th>\n",
       "      <th>RoomService</th>\n",
       "      <th>FoodCourt</th>\n",
       "      <th>ShoppingMall</th>\n",
       "      <th>Spa</th>\n",
       "      <th>VRDeck</th>\n",
       "      <th>Transported</th>\n",
       "      <th>deck</th>\n",
       "      <th>num</th>\n",
       "      <th>side</th>\n",
       "      <th>Group</th>\n",
       "      <th>Surname</th>\n",
       "    </tr>\n",
       "  </thead>\n",
       "  <tbody>\n",
       "    <tr>\n",
       "      <th>0</th>\n",
       "      <td>0.659799</td>\n",
       "      <td>0</td>\n",
       "      <td>0.466791</td>\n",
       "      <td>0.421330</td>\n",
       "      <td>0</td>\n",
       "      <td>0</td>\n",
       "      <td>0</td>\n",
       "      <td>0</td>\n",
       "      <td>0</td>\n",
       "      <td>0</td>\n",
       "      <td>0</td>\n",
       "      <td>0.728941</td>\n",
       "      <td>0.423356</td>\n",
       "      <td>0.449878</td>\n",
       "      <td>0.503633</td>\n",
       "      <td>0.503633</td>\n",
       "    </tr>\n",
       "    <tr>\n",
       "      <th>1</th>\n",
       "      <td>0.425709</td>\n",
       "      <td>0</td>\n",
       "      <td>0.466791</td>\n",
       "      <td>0.443374</td>\n",
       "      <td>0</td>\n",
       "      <td>1</td>\n",
       "      <td>1</td>\n",
       "      <td>1</td>\n",
       "      <td>1</td>\n",
       "      <td>1</td>\n",
       "      <td>1</td>\n",
       "      <td>0.435441</td>\n",
       "      <td>0.423356</td>\n",
       "      <td>0.556038</td>\n",
       "      <td>0.503633</td>\n",
       "      <td>0.875908</td>\n",
       "    </tr>\n",
       "    <tr>\n",
       "      <th>2</th>\n",
       "      <td>0.659799</td>\n",
       "      <td>0</td>\n",
       "      <td>0.466791</td>\n",
       "      <td>0.430656</td>\n",
       "      <td>1</td>\n",
       "      <td>1</td>\n",
       "      <td>1</td>\n",
       "      <td>0</td>\n",
       "      <td>1</td>\n",
       "      <td>1</td>\n",
       "      <td>0</td>\n",
       "      <td>0.487998</td>\n",
       "      <td>0.423356</td>\n",
       "      <td>0.556038</td>\n",
       "      <td>0.167878</td>\n",
       "      <td>0.583939</td>\n",
       "    </tr>\n",
       "    <tr>\n",
       "      <th>3</th>\n",
       "      <td>0.659799</td>\n",
       "      <td>0</td>\n",
       "      <td>0.466791</td>\n",
       "      <td>0.445679</td>\n",
       "      <td>0</td>\n",
       "      <td>0</td>\n",
       "      <td>1</td>\n",
       "      <td>1</td>\n",
       "      <td>1</td>\n",
       "      <td>1</td>\n",
       "      <td>0</td>\n",
       "      <td>0.487998</td>\n",
       "      <td>0.423356</td>\n",
       "      <td>0.556038</td>\n",
       "      <td>0.167878</td>\n",
       "      <td>0.583939</td>\n",
       "    </tr>\n",
       "    <tr>\n",
       "      <th>4</th>\n",
       "      <td>0.425709</td>\n",
       "      <td>0</td>\n",
       "      <td>0.466791</td>\n",
       "      <td>0.566701</td>\n",
       "      <td>0</td>\n",
       "      <td>1</td>\n",
       "      <td>1</td>\n",
       "      <td>1</td>\n",
       "      <td>1</td>\n",
       "      <td>1</td>\n",
       "      <td>1</td>\n",
       "      <td>0.435441</td>\n",
       "      <td>0.731049</td>\n",
       "      <td>0.556038</td>\n",
       "      <td>0.503633</td>\n",
       "      <td>0.583939</td>\n",
       "    </tr>\n",
       "    <tr>\n",
       "      <th>5</th>\n",
       "      <td>0.425709</td>\n",
       "      <td>0</td>\n",
       "      <td>0.505615</td>\n",
       "      <td>0.511277</td>\n",
       "      <td>0</td>\n",
       "      <td>0</td>\n",
       "      <td>1</td>\n",
       "      <td>0</td>\n",
       "      <td>1</td>\n",
       "      <td>0</td>\n",
       "      <td>1</td>\n",
       "      <td>0.435441</td>\n",
       "      <td>0.423356</td>\n",
       "      <td>0.449878</td>\n",
       "      <td>0.503633</td>\n",
       "      <td>0.500727</td>\n",
       "    </tr>\n",
       "    <tr>\n",
       "      <th>6</th>\n",
       "      <td>0.425709</td>\n",
       "      <td>0</td>\n",
       "      <td>0.466791</td>\n",
       "      <td>0.507160</td>\n",
       "      <td>0</td>\n",
       "      <td>1</td>\n",
       "      <td>1</td>\n",
       "      <td>1</td>\n",
       "      <td>0</td>\n",
       "      <td>0</td>\n",
       "      <td>1</td>\n",
       "      <td>0.435441</td>\n",
       "      <td>0.437954</td>\n",
       "      <td>0.556038</td>\n",
       "      <td>0.503633</td>\n",
       "      <td>0.250606</td>\n",
       "    </tr>\n",
       "    <tr>\n",
       "      <th>8</th>\n",
       "      <td>0.425709</td>\n",
       "      <td>0</td>\n",
       "      <td>0.466791</td>\n",
       "      <td>0.496350</td>\n",
       "      <td>0</td>\n",
       "      <td>0</td>\n",
       "      <td>1</td>\n",
       "      <td>1</td>\n",
       "      <td>1</td>\n",
       "      <td>0</td>\n",
       "      <td>1</td>\n",
       "      <td>0.435441</td>\n",
       "      <td>0.700242</td>\n",
       "      <td>0.556038</td>\n",
       "      <td>0.503633</td>\n",
       "      <td>0.417272</td>\n",
       "    </tr>\n",
       "    <tr>\n",
       "      <th>9</th>\n",
       "      <td>0.659799</td>\n",
       "      <td>1</td>\n",
       "      <td>0.622517</td>\n",
       "      <td>0.534814</td>\n",
       "      <td>0</td>\n",
       "      <td>0</td>\n",
       "      <td>0</td>\n",
       "      <td>0</td>\n",
       "      <td>0</td>\n",
       "      <td>0</td>\n",
       "      <td>1</td>\n",
       "      <td>0.728941</td>\n",
       "      <td>0.731049</td>\n",
       "      <td>0.449878</td>\n",
       "      <td>0.834544</td>\n",
       "      <td>0.834544</td>\n",
       "    </tr>\n",
       "    <tr>\n",
       "      <th>11</th>\n",
       "      <td>0.659799</td>\n",
       "      <td>0</td>\n",
       "      <td>0.622517</td>\n",
       "      <td>0.458954</td>\n",
       "      <td>0</td>\n",
       "      <td>1</td>\n",
       "      <td>1</td>\n",
       "      <td>1</td>\n",
       "      <td>1</td>\n",
       "      <td>1</td>\n",
       "      <td>1</td>\n",
       "      <td>0.728941</td>\n",
       "      <td>0.731049</td>\n",
       "      <td>0.449878</td>\n",
       "      <td>0.834544</td>\n",
       "      <td>0.834544</td>\n",
       "    </tr>\n",
       "    <tr>\n",
       "      <th>12</th>\n",
       "      <td>0.515719</td>\n",
       "      <td>0</td>\n",
       "      <td>0.466791</td>\n",
       "      <td>0.428148</td>\n",
       "      <td>0</td>\n",
       "      <td>1</td>\n",
       "      <td>0</td>\n",
       "      <td>1</td>\n",
       "      <td>0</td>\n",
       "      <td>1</td>\n",
       "      <td>1</td>\n",
       "      <td>0.435441</td>\n",
       "      <td>0.731049</td>\n",
       "      <td>0.449878</td>\n",
       "      <td>0.503633</td>\n",
       "      <td>0.500727</td>\n",
       "    </tr>\n",
       "    <tr>\n",
       "      <th>13</th>\n",
       "      <td>0.425709</td>\n",
       "      <td>0</td>\n",
       "      <td>0.466791</td>\n",
       "      <td>0.550909</td>\n",
       "      <td>0</td>\n",
       "      <td>1</td>\n",
       "      <td>1</td>\n",
       "      <td>1</td>\n",
       "      <td>0</td>\n",
       "      <td>1</td>\n",
       "      <td>0</td>\n",
       "      <td>0.521025</td>\n",
       "      <td>0.731049</td>\n",
       "      <td>0.556038</td>\n",
       "      <td>0.503633</td>\n",
       "      <td>0.300727</td>\n",
       "    </tr>\n",
       "    <tr>\n",
       "      <th>14</th>\n",
       "      <td>0.425709</td>\n",
       "      <td>0</td>\n",
       "      <td>0.466791</td>\n",
       "      <td>0.589823</td>\n",
       "      <td>0</td>\n",
       "      <td>1</td>\n",
       "      <td>1</td>\n",
       "      <td>1</td>\n",
       "      <td>1</td>\n",
       "      <td>1</td>\n",
       "      <td>1</td>\n",
       "      <td>0.435441</td>\n",
       "      <td>0.437954</td>\n",
       "      <td>0.449878</td>\n",
       "      <td>0.503633</td>\n",
       "      <td>0.875908</td>\n",
       "    </tr>\n",
       "    <tr>\n",
       "      <th>17</th>\n",
       "      <td>0.425709</td>\n",
       "      <td>0</td>\n",
       "      <td>0.622517</td>\n",
       "      <td>0.443374</td>\n",
       "      <td>0</td>\n",
       "      <td>0</td>\n",
       "      <td>1</td>\n",
       "      <td>0</td>\n",
       "      <td>0</td>\n",
       "      <td>1</td>\n",
       "      <td>0</td>\n",
       "      <td>0.435441</td>\n",
       "      <td>0.300727</td>\n",
       "      <td>0.449878</td>\n",
       "      <td>0.503633</td>\n",
       "      <td>0.083939</td>\n",
       "    </tr>\n",
       "    <tr>\n",
       "      <th>18</th>\n",
       "      <td>0.515719</td>\n",
       "      <td>1</td>\n",
       "      <td>0.466791</td>\n",
       "      <td>0.458954</td>\n",
       "      <td>0</td>\n",
       "      <td>0</td>\n",
       "      <td>0</td>\n",
       "      <td>0</td>\n",
       "      <td>0</td>\n",
       "      <td>0</td>\n",
       "      <td>1</td>\n",
       "      <td>0.435441</td>\n",
       "      <td>0.625303</td>\n",
       "      <td>0.449878</td>\n",
       "      <td>0.503633</td>\n",
       "      <td>0.375908</td>\n",
       "    </tr>\n",
       "    <tr>\n",
       "      <th>19</th>\n",
       "      <td>0.425709</td>\n",
       "      <td>0</td>\n",
       "      <td>0.466791</td>\n",
       "      <td>0.826267</td>\n",
       "      <td>0</td>\n",
       "      <td>0</td>\n",
       "      <td>0</td>\n",
       "      <td>0</td>\n",
       "      <td>0</td>\n",
       "      <td>0</td>\n",
       "      <td>1</td>\n",
       "      <td>0.521025</td>\n",
       "      <td>0.423356</td>\n",
       "      <td>0.449878</td>\n",
       "      <td>0.501211</td>\n",
       "      <td>0.357662</td>\n",
       "    </tr>\n",
       "    <tr>\n",
       "      <th>20</th>\n",
       "      <td>0.425709</td>\n",
       "      <td>0</td>\n",
       "      <td>0.622517</td>\n",
       "      <td>0.534814</td>\n",
       "      <td>0</td>\n",
       "      <td>1</td>\n",
       "      <td>0</td>\n",
       "      <td>1</td>\n",
       "      <td>0</td>\n",
       "      <td>1</td>\n",
       "      <td>0</td>\n",
       "      <td>0.435441</td>\n",
       "      <td>0.350363</td>\n",
       "      <td>0.449878</td>\n",
       "      <td>0.501211</td>\n",
       "      <td>0.357662</td>\n",
       "    </tr>\n",
       "    <tr>\n",
       "      <th>21</th>\n",
       "      <td>0.425709</td>\n",
       "      <td>1</td>\n",
       "      <td>0.466791</td>\n",
       "      <td>0.754612</td>\n",
       "      <td>0</td>\n",
       "      <td>0</td>\n",
       "      <td>0</td>\n",
       "      <td>0</td>\n",
       "      <td>0</td>\n",
       "      <td>0</td>\n",
       "      <td>0</td>\n",
       "      <td>0.358923</td>\n",
       "      <td>0.423356</td>\n",
       "      <td>0.556038</td>\n",
       "      <td>0.300727</td>\n",
       "      <td>0.083939</td>\n",
       "    </tr>\n",
       "    <tr>\n",
       "      <th>22</th>\n",
       "      <td>0.425709</td>\n",
       "      <td>1</td>\n",
       "      <td>0.622517</td>\n",
       "      <td>0.409773</td>\n",
       "      <td>0</td>\n",
       "      <td>0</td>\n",
       "      <td>0</td>\n",
       "      <td>0</td>\n",
       "      <td>0</td>\n",
       "      <td>0</td>\n",
       "      <td>0</td>\n",
       "      <td>0.358923</td>\n",
       "      <td>0.423356</td>\n",
       "      <td>0.556038</td>\n",
       "      <td>0.300727</td>\n",
       "      <td>0.083939</td>\n",
       "    </tr>\n",
       "    <tr>\n",
       "      <th>24</th>\n",
       "      <td>0.425709</td>\n",
       "      <td>0</td>\n",
       "      <td>0.466791</td>\n",
       "      <td>0.661408</td>\n",
       "      <td>0</td>\n",
       "      <td>0</td>\n",
       "      <td>0</td>\n",
       "      <td>0</td>\n",
       "      <td>0</td>\n",
       "      <td>0</td>\n",
       "      <td>1</td>\n",
       "      <td>0.358923</td>\n",
       "      <td>0.423356</td>\n",
       "      <td>0.556038</td>\n",
       "      <td>0.300727</td>\n",
       "      <td>0.503633</td>\n",
       "    </tr>\n",
       "  </tbody>\n",
       "</table>\n",
       "</div>"
      ],
      "text/plain": [
       "    HomePlanet  CryoSleep  Destination       Age  VIP  RoomService  FoodCourt  \\\n",
       "0     0.659799          0     0.466791  0.421330    0            0          0   \n",
       "1     0.425709          0     0.466791  0.443374    0            1          1   \n",
       "2     0.659799          0     0.466791  0.430656    1            1          1   \n",
       "3     0.659799          0     0.466791  0.445679    0            0          1   \n",
       "4     0.425709          0     0.466791  0.566701    0            1          1   \n",
       "5     0.425709          0     0.505615  0.511277    0            0          1   \n",
       "6     0.425709          0     0.466791  0.507160    0            1          1   \n",
       "8     0.425709          0     0.466791  0.496350    0            0          1   \n",
       "9     0.659799          1     0.622517  0.534814    0            0          0   \n",
       "11    0.659799          0     0.622517  0.458954    0            1          1   \n",
       "12    0.515719          0     0.466791  0.428148    0            1          0   \n",
       "13    0.425709          0     0.466791  0.550909    0            1          1   \n",
       "14    0.425709          0     0.466791  0.589823    0            1          1   \n",
       "17    0.425709          0     0.622517  0.443374    0            0          1   \n",
       "18    0.515719          1     0.466791  0.458954    0            0          0   \n",
       "19    0.425709          0     0.466791  0.826267    0            0          0   \n",
       "20    0.425709          0     0.622517  0.534814    0            1          0   \n",
       "21    0.425709          1     0.466791  0.754612    0            0          0   \n",
       "22    0.425709          1     0.622517  0.409773    0            0          0   \n",
       "24    0.425709          0     0.466791  0.661408    0            0          0   \n",
       "\n",
       "    ShoppingMall  Spa  VRDeck  Transported      deck       num      side  \\\n",
       "0              0    0       0            0  0.728941  0.423356  0.449878   \n",
       "1              1    1       1            1  0.435441  0.423356  0.556038   \n",
       "2              0    1       1            0  0.487998  0.423356  0.556038   \n",
       "3              1    1       1            0  0.487998  0.423356  0.556038   \n",
       "4              1    1       1            1  0.435441  0.731049  0.556038   \n",
       "5              0    1       0            1  0.435441  0.423356  0.449878   \n",
       "6              1    0       0            1  0.435441  0.437954  0.556038   \n",
       "8              1    1       0            1  0.435441  0.700242  0.556038   \n",
       "9              0    0       0            1  0.728941  0.731049  0.449878   \n",
       "11             1    1       1            1  0.728941  0.731049  0.449878   \n",
       "12             1    0       1            1  0.435441  0.731049  0.449878   \n",
       "13             1    0       1            0  0.521025  0.731049  0.556038   \n",
       "14             1    1       1            1  0.435441  0.437954  0.449878   \n",
       "17             0    0       1            0  0.435441  0.300727  0.449878   \n",
       "18             0    0       0            1  0.435441  0.625303  0.449878   \n",
       "19             0    0       0            1  0.521025  0.423356  0.449878   \n",
       "20             1    0       1            0  0.435441  0.350363  0.449878   \n",
       "21             0    0       0            0  0.358923  0.423356  0.556038   \n",
       "22             0    0       0            0  0.358923  0.423356  0.556038   \n",
       "24             0    0       0            1  0.358923  0.423356  0.556038   \n",
       "\n",
       "       Group   Surname  \n",
       "0   0.503633  0.503633  \n",
       "1   0.503633  0.875908  \n",
       "2   0.167878  0.583939  \n",
       "3   0.167878  0.583939  \n",
       "4   0.503633  0.583939  \n",
       "5   0.503633  0.500727  \n",
       "6   0.503633  0.250606  \n",
       "8   0.503633  0.417272  \n",
       "9   0.834544  0.834544  \n",
       "11  0.834544  0.834544  \n",
       "12  0.503633  0.500727  \n",
       "13  0.503633  0.300727  \n",
       "14  0.503633  0.875908  \n",
       "17  0.503633  0.083939  \n",
       "18  0.503633  0.375908  \n",
       "19  0.501211  0.357662  \n",
       "20  0.501211  0.357662  \n",
       "21  0.300727  0.083939  \n",
       "22  0.300727  0.083939  \n",
       "24  0.300727  0.503633  "
      ]
     },
     "execution_count": 38,
     "metadata": {},
     "output_type": "execute_result"
    }
   ],
   "source": [
    "sample.head(20)"
   ]
  },
  {
   "cell_type": "markdown",
   "id": "c8359213",
   "metadata": {},
   "source": [
    "# Look at the target balance (Because I removed a lot of data)\n",
    "It's ok"
   ]
  },
  {
   "cell_type": "code",
   "execution_count": 29,
   "id": "c0af7459",
   "metadata": {},
   "outputs": [
    {
     "data": {
      "text/plain": [
       "<AxesSubplot: >"
      ]
     },
     "execution_count": 29,
     "metadata": {},
     "output_type": "execute_result"
    },
    {
     "data": {
      "image/png": "[encoded data removed]",
      "text/plain": [
       "<Figure size 640x480 with 1 Axes>"
      ]
     },
     "metadata": {},
     "output_type": "display_data"
    }
   ],
   "source": [
    "sample[\"Transported\"].hist()"
   ]
  },
  {
   "cell_type": "code",
   "execution_count": 49,
   "id": "646bf74d",
   "metadata": {},
   "outputs": [],
   "source": [
    "sample.to_csv(PREPROCESSED)"
   ]
  },
  {
   "cell_type": "markdown",
   "id": "b6f41c82",
   "metadata": {},
   "source": [
    "# Prepare data to train"
   ]
  },
  {
   "cell_type": "code",
   "execution_count": 43,
   "id": "d388998c",
   "metadata": {},
   "outputs": [],
   "source": [
    "predictors = sample.loc[:, sample.columns != \"Transported\"]\n",
    "target = sample[\"Transported\"]"
   ]
  },
  {
   "cell_type": "markdown",
   "id": "8ea04e8a",
   "metadata": {},
   "source": [
    "# Train LGBM"
   ]
  },
  {
   "cell_type": "code",
   "execution_count": 44,
   "id": "d0bf6cb9",
   "metadata": {},
   "outputs": [
    {
     "name": "stderr",
     "output_type": "stream",
     "text": [
      "\u001b[32m[I 2022-12-08 01:15:23,889]\u001b[0m A new study created in memory with name: test\u001b[0m\n",
      "/home/aveitsme/envs/core/lib/python3.10/site-packages/optuna/progress_bar.py:49: ExperimentalWarning: Progress bar is experimental (supported from v1.2.0). The interface can change in the future.\n",
      "  self._init_valid()\n",
      "  1%|▋                                                              | 1/100 [00:02<04:31,  2.74s/it]"
     ]
    },
    {
     "name": "stdout",
     "output_type": "stream",
     "text": [
      "\u001b[32m[I 2022-12-08 01:15:26,632]\u001b[0m Trial 0 finished with value: 0.8368720610231655 and parameters: {'n_estimators': 389, 'learning_rate': 0.05129377240526179, 'max_depth': 8, 'subsample': 0.7732898862697479, 'min_child_weight': 3}. Best is trial 0 with value: 0.8368720610231655.\u001b[0m\n"
     ]
    },
    {
     "name": "stderr",
     "output_type": "stream",
     "text": [
      "  2%|█▎                                                             | 2/100 [00:03<02:15,  1.38s/it]"
     ]
    },
    {
     "name": "stdout",
     "output_type": "stream",
     "text": [
      "\u001b[32m[I 2022-12-08 01:15:27,065]\u001b[0m Trial 1 finished with value: 0.8481760277314887 and parameters: {'n_estimators': 150, 'learning_rate': 0.12183273990168883, 'max_depth': 3, 'subsample': 0.7782773287723517, 'min_child_weight': 3}. Best is trial 1 with value: 0.8481760277314887.\u001b[0m\n"
     ]
    },
    {
     "name": "stderr",
     "output_type": "stream",
     "text": [
      "  3%|█▉                                                             | 3/100 [00:03<01:42,  1.05s/it]"
     ]
    },
    {
     "name": "stdout",
     "output_type": "stream",
     "text": [
      "\u001b[32m[I 2022-12-08 01:15:27,722]\u001b[0m Trial 2 finished with value: 0.8269798334031947 and parameters: {'n_estimators': 290, 'learning_rate': 0.009706131433323554, 'max_depth': 2, 'subsample': 0.8392716077041467, 'min_child_weight': 4}. Best is trial 1 with value: 0.8481760277314887.\u001b[0m\n"
     ]
    },
    {
     "name": "stderr",
     "output_type": "stream",
     "text": [
      "  4%|██▌                                                            | 4/100 [00:05<01:52,  1.17s/it]"
     ]
    },
    {
     "name": "stdout",
     "output_type": "stream",
     "text": [
      "\u001b[32m[I 2022-12-08 01:15:29,083]\u001b[0m Trial 3 finished with value: 0.8439814814882649 and parameters: {'n_estimators': 316, 'learning_rate': 0.0811302674117372, 'max_depth': 5, 'subsample': 0.8882877895538543, 'min_child_weight': 4}. Best is trial 1 with value: 0.8481760277314887.\u001b[0m\n"
     ]
    },
    {
     "name": "stderr",
     "output_type": "stream",
     "text": [
      "  5%|███▏                                                           | 5/100 [00:06<01:57,  1.24s/it]"
     ]
    },
    {
     "name": "stdout",
     "output_type": "stream",
     "text": [
      "\u001b[32m[I 2022-12-08 01:15:30,443]\u001b[0m Trial 4 finished with value: 0.8481250819151482 and parameters: {'n_estimators': 320, 'learning_rate': 0.073639278794738, 'max_depth': 5, 'subsample': 0.6974518324067747, 'min_child_weight': 7}. Best is trial 1 with value: 0.8481760277314887.\u001b[0m\n"
     ]
    },
    {
     "name": "stderr",
     "output_type": "stream",
     "text": [
      "  6%|███▊                                                           | 6/100 [00:08<02:34,  1.64s/it]"
     ]
    },
    {
     "name": "stdout",
     "output_type": "stream",
     "text": [
      "\u001b[32m[I 2022-12-08 01:15:32,858]\u001b[0m Trial 5 finished with value: 0.8509928945492607 and parameters: {'n_estimators': 323, 'learning_rate': 0.010443736438795587, 'max_depth': 9, 'subsample': 0.7604027923299383, 'min_child_weight': 5}. Best is trial 5 with value: 0.8509928945492607.\u001b[0m\n"
     ]
    },
    {
     "name": "stderr",
     "output_type": "stream",
     "text": [
      "  7%|████▍                                                          | 7/100 [00:11<02:51,  1.85s/it]"
     ]
    },
    {
     "name": "stdout",
     "output_type": "stream",
     "text": [
      "\u001b[32m[I 2022-12-08 01:15:35,130]\u001b[0m Trial 6 finished with value: 0.8405558711647897 and parameters: {'n_estimators': 461, 'learning_rate': 0.06840193375461841, 'max_depth': 6, 'subsample': 0.7520033992460557, 'min_child_weight': 9}. Best is trial 5 with value: 0.8509928945492607.\u001b[0m\n"
     ]
    },
    {
     "name": "stderr",
     "output_type": "stream",
     "text": [
      "  8%|█████                                                          | 8/100 [00:12<02:25,  1.58s/it]"
     ]
    },
    {
     "name": "stdout",
     "output_type": "stream",
     "text": [
      "\u001b[32m[I 2022-12-08 01:15:36,133]\u001b[0m Trial 7 finished with value: 0.8466099458803258 and parameters: {'n_estimators': 140, 'learning_rate': 0.07151927305395951, 'max_depth': 8, 'subsample': 0.7799457601496583, 'min_child_weight': 2}. Best is trial 5 with value: 0.8509928945492607.\u001b[0m\n"
     ]
    },
    {
     "name": "stderr",
     "output_type": "stream",
     "text": [
      "  9%|█████▋                                                         | 9/100 [00:13<02:12,  1.46s/it]"
     ]
    },
    {
     "name": "stdout",
     "output_type": "stream",
     "text": [
      "\u001b[32m[I 2022-12-08 01:15:37,325]\u001b[0m Trial 8 finished with value: 0.8489387624091839 and parameters: {'n_estimators': 194, 'learning_rate': 0.054345836758262975, 'max_depth': 8, 'subsample': 0.7770594068590604, 'min_child_weight': 8}. Best is trial 5 with value: 0.8509928945492607.\u001b[0m\n"
     ]
    },
    {
     "name": "stderr",
     "output_type": "stream",
     "text": [
      " 10%|██████▏                                                       | 10/100 [00:14<01:54,  1.28s/it]"
     ]
    },
    {
     "name": "stdout",
     "output_type": "stream",
     "text": [
      "\u001b[32m[I 2022-12-08 01:15:38,193]\u001b[0m Trial 9 finished with value: 0.8514097814687371 and parameters: {'n_estimators': 138, 'learning_rate': 0.030885688607843118, 'max_depth': 8, 'subsample': 0.780582046860725, 'min_child_weight': 8}. Best is trial 9 with value: 0.8514097814687371.\u001b[0m\n"
     ]
    },
    {
     "name": "stderr",
     "output_type": "stream",
     "text": [
      " 11%|██████▊                                                       | 11/100 [00:15<01:49,  1.23s/it]"
     ]
    },
    {
     "name": "stdout",
     "output_type": "stream",
     "text": [
      "\u001b[32m[I 2022-12-08 01:15:39,308]\u001b[0m Trial 10 finished with value: 0.8498778066690915 and parameters: {'n_estimators': 232, 'learning_rate': 0.03159198682176432, 'max_depth': 6, 'subsample': 0.5454452535472012, 'min_child_weight': 10}. Best is trial 9 with value: 0.8514097814687371.\u001b[0m\n"
     ]
    },
    {
     "name": "stderr",
     "output_type": "stream",
     "text": [
      " 12%|███████▍                                                      | 12/100 [00:18<02:38,  1.80s/it]"
     ]
    },
    {
     "name": "stdout",
     "output_type": "stream",
     "text": [
      "\u001b[32m[I 2022-12-08 01:15:42,421]\u001b[0m Trial 11 finished with value: 0.8436078577189073 and parameters: {'n_estimators': 392, 'learning_rate': 0.004954031861794664, 'max_depth': 9, 'subsample': 0.9827012823065946, 'min_child_weight': 6}. Best is trial 9 with value: 0.8514097814687371.\u001b[0m\n"
     ]
    },
    {
     "name": "stderr",
     "output_type": "stream",
     "text": [
      " 13%|████████                                                      | 13/100 [00:20<02:37,  1.81s/it]"
     ]
    },
    {
     "name": "stdout",
     "output_type": "stream",
     "text": [
      "\u001b[32m[I 2022-12-08 01:15:44,242]\u001b[0m Trial 12 finished with value: 0.8519774875315813 and parameters: {'n_estimators': 247, 'learning_rate': 0.027008573599769357, 'max_depth': 9, 'subsample': 0.5962478778964908, 'min_child_weight': 6}. Best is trial 12 with value: 0.8519774875315813.\u001b[0m\n"
     ]
    },
    {
     "name": "stderr",
     "output_type": "stream",
     "text": [
      " 14%|████████▋                                                     | 14/100 [00:21<02:05,  1.46s/it]"
     ]
    },
    {
     "name": "stdout",
     "output_type": "stream",
     "text": [
      "\u001b[32m[I 2022-12-08 01:15:44,892]\u001b[0m Trial 13 finished with value: 0.849799237724042 and parameters: {'n_estimators': 107, 'learning_rate': 0.03223595398661132, 'max_depth': 7, 'subsample': 0.6328762438771605, 'min_child_weight': 7}. Best is trial 12 with value: 0.8519774875315813.\u001b[0m\n"
     ]
    },
    {
     "name": "stderr",
     "output_type": "stream",
     "text": [
      " 15%|█████████▎                                                    | 15/100 [00:22<02:06,  1.49s/it]"
     ]
    },
    {
     "name": "stdout",
     "output_type": "stream",
     "text": [
      "\u001b[32m[I 2022-12-08 01:15:46,463]\u001b[0m Trial 14 finished with value: 0.84918948125963 and parameters: {'n_estimators': 232, 'learning_rate': 0.03179800760384199, 'max_depth': 9, 'subsample': 0.5468749683047361, 'min_child_weight': 8}. Best is trial 12 with value: 0.8519774875315813.\u001b[0m\n"
     ]
    },
    {
     "name": "stderr",
     "output_type": "stream",
     "text": [
      " 16%|█████████▉                                                    | 16/100 [00:23<01:56,  1.39s/it]"
     ]
    },
    {
     "name": "stdout",
     "output_type": "stream",
     "text": [
      "\u001b[32m[I 2022-12-08 01:15:47,609]\u001b[0m Trial 15 finished with value: 0.8492754070013833 and parameters: {'n_estimators': 198, 'learning_rate': 0.040174997990412076, 'max_depth': 7, 'subsample': 0.6524847158469145, 'min_child_weight': 6}. Best is trial 12 with value: 0.8519774875315813.\u001b[0m\n"
     ]
    },
    {
     "name": "stderr",
     "output_type": "stream",
     "text": [
      " 17%|██████████▌                                                   | 17/100 [00:25<01:55,  1.39s/it]"
     ]
    },
    {
     "name": "stdout",
     "output_type": "stream",
     "text": [
      "\u001b[32m[I 2022-12-08 01:15:48,991]\u001b[0m Trial 16 finished with value: 0.8457388161031011 and parameters: {'n_estimators': 253, 'learning_rate': 0.09413142642876572, 'max_depth': 7, 'subsample': 0.5030532722017906, 'min_child_weight': 10}. Best is trial 12 with value: 0.8519774875315813.\u001b[0m\n"
     ]
    },
    {
     "name": "stderr",
     "output_type": "stream",
     "text": [
      " 18%|███████████▏                                                  | 18/100 [00:26<01:43,  1.27s/it]"
     ]
    },
    {
     "name": "stdout",
     "output_type": "stream",
     "text": [
      "\u001b[32m[I 2022-12-08 01:15:49,984]\u001b[0m Trial 17 finished with value: 0.8493824851797948 and parameters: {'n_estimators': 106, 'learning_rate': 0.021700456826458776, 'max_depth': 9, 'subsample': 0.6393985361155895, 'min_child_weight': 1}. Best is trial 12 with value: 0.8519774875315813.\u001b[0m\n"
     ]
    },
    {
     "name": "stderr",
     "output_type": "stream",
     "text": [
      " 19%|███████████▊                                                  | 19/100 [00:26<01:27,  1.08s/it]"
     ]
    },
    {
     "name": "stdout",
     "output_type": "stream",
     "text": [
      "\u001b[32m[I 2022-12-08 01:15:50,615]\u001b[0m Trial 18 finished with value: 0.849948303474158 and parameters: {'n_estimators': 180, 'learning_rate': 0.04619011333912029, 'max_depth': 4, 'subsample': 0.879842592509897, 'min_child_weight': 7}. Best is trial 12 with value: 0.8519774875315813.\u001b[0m\n"
     ]
    },
    {
     "name": "stderr",
     "output_type": "stream",
     "text": [
      " 20%|████████████▍                                                 | 20/100 [00:28<01:53,  1.41s/it]"
     ]
    },
    {
     "name": "stdout",
     "output_type": "stream",
     "text": [
      "\u001b[32m[I 2022-12-08 01:15:52,818]\u001b[0m Trial 19 finished with value: 0.8501353187021821 and parameters: {'n_estimators': 267, 'learning_rate': 0.01731950953999433, 'max_depth': 8, 'subsample': 0.6949981226897748, 'min_child_weight': 5}. Best is trial 12 with value: 0.8519774875315813.\u001b[0m\n"
     ]
    },
    {
     "name": "stderr",
     "output_type": "stream",
     "text": [
      " 21%|█████████████                                                 | 21/100 [00:31<02:13,  1.69s/it]"
     ]
    },
    {
     "name": "stdout",
     "output_type": "stream",
     "text": [
      "\u001b[32m[I 2022-12-08 01:15:55,158]\u001b[0m Trial 20 finished with value: 0.8325570761960283 and parameters: {'n_estimators': 367, 'learning_rate': 0.00026748915085113636, 'max_depth': 7, 'subsample': 0.5793807251399963, 'min_child_weight': 9}. Best is trial 12 with value: 0.8519774875315813.\u001b[0m\n"
     ]
    },
    {
     "name": "stderr",
     "output_type": "stream",
     "text": [
      " 21%|█████████████                                                 | 21/100 [00:33<02:07,  1.61s/it]"
     ]
    },
    {
     "name": "stdout",
     "output_type": "stream",
     "text": [
      "\u001b[32m[I 2022-12-08 01:15:57,738]\u001b[0m Trial 21 finished with value: 0.8511937719048863 and parameters: {'n_estimators': 345, 'learning_rate': 0.018010315675371244, 'max_depth': 9, 'subsample': 0.8308700698419915, 'min_child_weight': 5}. Best is trial 12 with value: 0.8519774875315813.\u001b[0m\n",
      "EarlyStopping Exceeded: No new best scores on iters 20\n",
      "\n",
      "TEST SCORE IS 0.84\n"
     ]
    },
    {
     "name": "stderr",
     "output_type": "stream",
     "text": [
      "\n"
     ]
    }
   ],
   "source": [
    "score, model = train(LGBMClassifier, predictors, target)\n",
    "print(f\"\\nTEST SCORE IS {score}\")"
   ]
  },
  {
   "cell_type": "code",
   "execution_count": 45,
   "id": "1cf44202",
   "metadata": {},
   "outputs": [
    {
     "data": {
      "image/png": "[encoded data removed]",
      "text/plain": [
       "<Figure size 1000x1000 with 1 Axes>"
      ]
     },
     "metadata": {},
     "output_type": "display_data"
    }
   ],
   "source": [
    "plot_feature_importance(model, predictors, \"LGBM\")"
   ]
  },
  {
   "cell_type": "markdown",
   "id": "d4f4d6ec",
   "metadata": {},
   "source": [
    "# Train XGBoost"
   ]
  },
  {
   "cell_type": "code",
   "execution_count": 46,
   "id": "d979b382",
   "metadata": {},
   "outputs": [
    {
     "name": "stderr",
     "output_type": "stream",
     "text": [
      "\u001b[32m[I 2022-12-08 01:15:58,061]\u001b[0m A new study created in memory with name: test\u001b[0m\n",
      "/home/aveitsme/envs/core/lib/python3.10/site-packages/optuna/progress_bar.py:49: ExperimentalWarning: Progress bar is experimental (supported from v1.2.0). The interface can change in the future.\n",
      "  self._init_valid()\n",
      "  1%|▋                                                              | 1/100 [00:00<00:42,  2.36it/s]"
     ]
    },
    {
     "name": "stdout",
     "output_type": "stream",
     "text": [
      "\u001b[32m[I 2022-12-08 01:15:58,485]\u001b[0m Trial 0 finished with value: 0.8473037203721363 and parameters: {'n_estimators': 167, 'learning_rate': 0.0894660275773938, 'max_depth': 2, 'subsample': 0.5837931124654787, 'min_child_weight': 3}. Best is trial 0 with value: 0.8473037203721363.\u001b[0m\n"
     ]
    },
    {
     "name": "stderr",
     "output_type": "stream",
     "text": [
      "  2%|█▎                                                             | 2/100 [00:01<01:01,  1.60it/s]"
     ]
    },
    {
     "name": "stdout",
     "output_type": "stream",
     "text": [
      "\u001b[32m[I 2022-12-08 01:15:59,248]\u001b[0m Trial 1 finished with value: 0.8470019347622342 and parameters: {'n_estimators': 283, 'learning_rate': 0.06668024860819044, 'max_depth': 2, 'subsample': 0.5545043972702433, 'min_child_weight': 3}. Best is trial 0 with value: 0.8473037203721363.\u001b[0m\n"
     ]
    },
    {
     "name": "stderr",
     "output_type": "stream",
     "text": [
      "  3%|█▉                                                             | 3/100 [00:02<01:45,  1.08s/it]"
     ]
    },
    {
     "name": "stdout",
     "output_type": "stream",
     "text": [
      "\u001b[32m[I 2022-12-08 01:16:00,882]\u001b[0m Trial 2 finished with value: 0.8442592226553314 and parameters: {'n_estimators': 244, 'learning_rate': 0.03897053695811009, 'max_depth': 8, 'subsample': 0.5516452194562876, 'min_child_weight': 7}. Best is trial 0 with value: 0.8473037203721363.\u001b[0m\n"
     ]
    },
    {
     "name": "stderr",
     "output_type": "stream",
     "text": [
      "  4%|██▌                                                            | 4/100 [00:03<01:32,  1.04it/s]"
     ]
    },
    {
     "name": "stdout",
     "output_type": "stream",
     "text": [
      "\u001b[32m[I 2022-12-08 01:16:01,647]\u001b[0m Trial 3 finished with value: 0.8471433994651159 and parameters: {'n_estimators': 142, 'learning_rate': 0.053739967181596966, 'max_depth': 6, 'subsample': 0.5546246508673819, 'min_child_weight': 7}. Best is trial 0 with value: 0.8473037203721363.\u001b[0m\n"
     ]
    },
    {
     "name": "stderr",
     "output_type": "stream",
     "text": [
      "  5%|███▏                                                           | 5/100 [00:04<01:35,  1.00s/it]"
     ]
    },
    {
     "name": "stdout",
     "output_type": "stream",
     "text": [
      "\u001b[32m[I 2022-12-08 01:16:02,724]\u001b[0m Trial 4 finished with value: 0.8469955873735243 and parameters: {'n_estimators': 487, 'learning_rate': 0.04135592067363883, 'max_depth': 2, 'subsample': 0.6373916535978333, 'min_child_weight': 2}. Best is trial 0 with value: 0.8473037203721363.\u001b[0m\n"
     ]
    },
    {
     "name": "stderr",
     "output_type": "stream",
     "text": [
      "  6%|███▊                                                           | 6/100 [00:05<01:18,  1.20it/s]"
     ]
    },
    {
     "name": "stdout",
     "output_type": "stream",
     "text": [
      "\u001b[32m[I 2022-12-08 01:16:03,223]\u001b[0m Trial 5 finished with value: 0.8428433944887107 and parameters: {'n_estimators': 228, 'learning_rate': 0.0470526006892916, 'max_depth': 2, 'subsample': 0.9253830331079139, 'min_child_weight': 10}. Best is trial 0 with value: 0.8473037203721363.\u001b[0m\n"
     ]
    },
    {
     "name": "stderr",
     "output_type": "stream",
     "text": [
      "  7%|████▍                                                          | 7/100 [00:06<01:39,  1.07s/it]"
     ]
    },
    {
     "name": "stdout",
     "output_type": "stream",
     "text": [
      "\u001b[32m[I 2022-12-08 01:16:04,798]\u001b[0m Trial 6 finished with value: 0.840598749257172 and parameters: {'n_estimators': 216, 'learning_rate': 0.09041645956912178, 'max_depth': 9, 'subsample': 0.8650975041574475, 'min_child_weight': 8}. Best is trial 0 with value: 0.8473037203721363.\u001b[0m\n"
     ]
    },
    {
     "name": "stderr",
     "output_type": "stream",
     "text": [
      "  8%|█████                                                          | 8/100 [00:07<01:18,  1.17it/s]"
     ]
    },
    {
     "name": "stdout",
     "output_type": "stream",
     "text": [
      "\u001b[32m[I 2022-12-08 01:16:05,178]\u001b[0m Trial 7 finished with value: 0.8450988121118865 and parameters: {'n_estimators': 145, 'learning_rate': 0.11551654880928416, 'max_depth': 2, 'subsample': 0.7634969007957837, 'min_child_weight': 5}. Best is trial 0 with value: 0.8473037203721363.\u001b[0m\n"
     ]
    },
    {
     "name": "stderr",
     "output_type": "stream",
     "text": [
      "  9%|█████▋                                                         | 9/100 [00:09<01:57,  1.29s/it]"
     ]
    },
    {
     "name": "stdout",
     "output_type": "stream",
     "text": [
      "\u001b[32m[I 2022-12-08 01:16:07,424]\u001b[0m Trial 8 finished with value: 0.8322528173642351 and parameters: {'n_estimators': 308, 'learning_rate': 0.09786643324162088, 'max_depth': 8, 'subsample': 0.647606153559419, 'min_child_weight': 4}. Best is trial 0 with value: 0.8473037203721363.\u001b[0m\n"
     ]
    },
    {
     "name": "stderr",
     "output_type": "stream",
     "text": [
      " 10%|██████▏                                                       | 10/100 [00:10<02:03,  1.37s/it]"
     ]
    },
    {
     "name": "stdout",
     "output_type": "stream",
     "text": [
      "\u001b[32m[I 2022-12-08 01:16:08,988]\u001b[0m Trial 9 finished with value: 0.8433465541292756 and parameters: {'n_estimators': 373, 'learning_rate': 0.06353057091040595, 'max_depth': 4, 'subsample': 0.7235379735082504, 'min_child_weight': 6}. Best is trial 0 with value: 0.8473037203721363.\u001b[0m\n"
     ]
    },
    {
     "name": "stderr",
     "output_type": "stream",
     "text": [
      " 11%|██████▊                                                       | 11/100 [00:11<01:40,  1.13s/it]"
     ]
    },
    {
     "name": "stdout",
     "output_type": "stream",
     "text": [
      "\u001b[32m[I 2022-12-08 01:16:09,574]\u001b[0m Trial 10 finished with value: 0.8222091239379223 and parameters: {'n_estimators': 107, 'learning_rate': 0.00871706544428686, 'max_depth': 5, 'subsample': 0.7739052482218015, 'min_child_weight': 1}. Best is trial 0 with value: 0.8473037203721363.\u001b[0m\n"
     ]
    },
    {
     "name": "stderr",
     "output_type": "stream",
     "text": [
      " 12%|███████▍                                                      | 12/100 [00:12<01:39,  1.13s/it]"
     ]
    },
    {
     "name": "stdout",
     "output_type": "stream",
     "text": [
      "\u001b[32m[I 2022-12-08 01:16:10,713]\u001b[0m Trial 11 finished with value: 0.8444282852328222 and parameters: {'n_estimators': 160, 'learning_rate': 0.08234215869663569, 'max_depth': 6, 'subsample': 0.5031200045631794, 'min_child_weight': 9}. Best is trial 0 with value: 0.8473037203721363.\u001b[0m\n"
     ]
    },
    {
     "name": "stderr",
     "output_type": "stream",
     "text": [
      " 13%|████████                                                      | 13/100 [00:13<01:37,  1.12s/it]"
     ]
    },
    {
     "name": "stdout",
     "output_type": "stream",
     "text": [
      "\u001b[32m[I 2022-12-08 01:16:11,784]\u001b[0m Trial 12 finished with value: 0.8449515886351312 and parameters: {'n_estimators': 173, 'learning_rate': 0.016522390057115942, 'max_depth': 6, 'subsample': 0.636084202210005, 'min_child_weight': 5}. Best is trial 0 with value: 0.8473037203721363.\u001b[0m\n"
     ]
    },
    {
     "name": "stderr",
     "output_type": "stream",
     "text": [
      " 14%|████████▋                                                     | 14/100 [00:14<01:21,  1.05it/s]"
     ]
    },
    {
     "name": "stdout",
     "output_type": "stream",
     "text": [
      "\u001b[32m[I 2022-12-08 01:16:12,352]\u001b[0m Trial 13 finished with value: 0.847069389715239 and parameters: {'n_estimators': 116, 'learning_rate': 0.1189685055721979, 'max_depth': 4, 'subsample': 0.5010921324139842, 'min_child_weight': 3}. Best is trial 0 with value: 0.8473037203721363.\u001b[0m\n"
     ]
    },
    {
     "name": "stderr",
     "output_type": "stream",
     "text": [
      " 15%|█████████▎                                                    | 15/100 [00:15<01:18,  1.08it/s]"
     ]
    },
    {
     "name": "stdout",
     "output_type": "stream",
     "text": [
      "\u001b[32m[I 2022-12-08 01:16:13,221]\u001b[0m Trial 14 finished with value: 0.8460268217868586 and parameters: {'n_estimators': 180, 'learning_rate': 0.0740290256061763, 'max_depth': 4, 'subsample': 0.5932878644239854, 'min_child_weight': 7}. Best is trial 0 with value: 0.8473037203721363.\u001b[0m\n"
     ]
    },
    {
     "name": "stderr",
     "output_type": "stream",
     "text": [
      " 16%|█████████▉                                                    | 16/100 [00:18<02:06,  1.51s/it]"
     ]
    },
    {
     "name": "stdout",
     "output_type": "stream",
     "text": [
      "\u001b[32m[I 2022-12-08 01:16:16,091]\u001b[0m Trial 15 finished with value: 0.834303604008911 and parameters: {'n_estimators': 374, 'learning_rate': 0.10364245031594627, 'max_depth': 7, 'subsample': 0.7053262979658688, 'min_child_weight': 1}. Best is trial 0 with value: 0.8473037203721363.\u001b[0m\n"
     ]
    },
    {
     "name": "stderr",
     "output_type": "stream",
     "text": [
      " 17%|██████████▌                                                   | 17/100 [00:19<02:01,  1.47s/it]"
     ]
    },
    {
     "name": "stdout",
     "output_type": "stream",
     "text": [
      "\u001b[32m[I 2022-12-08 01:16:17,452]\u001b[0m Trial 16 finished with value: 0.8483329940533422 and parameters: {'n_estimators': 300, 'learning_rate': 0.05212092262953967, 'max_depth': 5, 'subsample': 0.9874995812681915, 'min_child_weight': 4}. Best is trial 16 with value: 0.8483329940533422.\u001b[0m\n"
     ]
    },
    {
     "name": "stderr",
     "output_type": "stream",
     "text": [
      " 18%|███████████▏                                                  | 18/100 [00:20<01:57,  1.43s/it]"
     ]
    },
    {
     "name": "stdout",
     "output_type": "stream",
     "text": [
      "\u001b[32m[I 2022-12-08 01:16:18,815]\u001b[0m Trial 17 finished with value: 0.8439908687024097 and parameters: {'n_estimators': 356, 'learning_rate': 0.0321730567074624, 'max_depth': 3, 'subsample': 0.9822467806763033, 'min_child_weight': 3}. Best is trial 16 with value: 0.8483329940533422.\u001b[0m\n"
     ]
    },
    {
     "name": "stderr",
     "output_type": "stream",
     "text": [
      " 19%|███████████▊                                                  | 19/100 [00:22<01:52,  1.39s/it]"
     ]
    },
    {
     "name": "stdout",
     "output_type": "stream",
     "text": [
      "\u001b[32m[I 2022-12-08 01:16:20,114]\u001b[0m Trial 18 finished with value: 0.8452443826384977 and parameters: {'n_estimators': 448, 'learning_rate': 0.024785526717957366, 'max_depth': 3, 'subsample': 0.830799539180878, 'min_child_weight': 4}. Best is trial 16 with value: 0.8483329940533422.\u001b[0m\n"
     ]
    },
    {
     "name": "stderr",
     "output_type": "stream",
     "text": [
      " 20%|████████████▍                                                 | 20/100 [00:23<01:59,  1.49s/it]"
     ]
    },
    {
     "name": "stdout",
     "output_type": "stream",
     "text": [
      "\u001b[32m[I 2022-12-08 01:16:21,830]\u001b[0m Trial 19 finished with value: 0.8412870149278913 and parameters: {'n_estimators': 294, 'learning_rate': 0.07511968869137339, 'max_depth': 5, 'subsample': 0.850704806059139, 'min_child_weight': 4}. Best is trial 16 with value: 0.8483329940533422.\u001b[0m\n"
     ]
    },
    {
     "name": "stderr",
     "output_type": "stream",
     "text": [
      " 21%|█████████████                                                 | 21/100 [00:24<01:46,  1.35s/it]"
     ]
    },
    {
     "name": "stdout",
     "output_type": "stream",
     "text": [
      "\u001b[32m[I 2022-12-08 01:16:22,863]\u001b[0m Trial 20 finished with value: 0.7949204678639683 and parameters: {'n_estimators': 334, 'learning_rate': 8.629250769465191e-05, 'max_depth': 3, 'subsample': 0.994974606981948, 'min_child_weight': 2}. Best is trial 16 with value: 0.8483329940533422.\u001b[0m\n"
     ]
    },
    {
     "name": "stderr",
     "output_type": "stream",
     "text": [
      " 21%|█████████████                                                 | 21/100 [00:26<01:39,  1.26s/it]\n"
     ]
    },
    {
     "name": "stdout",
     "output_type": "stream",
     "text": [
      "\u001b[32m[I 2022-12-08 01:16:24,473]\u001b[0m Trial 21 finished with value: 0.8436053228396545 and parameters: {'n_estimators': 209, 'learning_rate': 0.05552885405256168, 'max_depth': 7, 'subsample': 0.6775214630821421, 'min_child_weight': 6}. Best is trial 16 with value: 0.8483329940533422.\u001b[0m\n",
      "EarlyStopping Exceeded: No new best scores on iters 20\n",
      "\n",
      "TEST SCORE IS 0.8552138034508626\n"
     ]
    }
   ],
   "source": [
    "score, model = train(XGBClassifier, predictors, target)\n",
    "print(f\"\\nTEST SCORE IS {score}\")"
   ]
  },
  {
   "cell_type": "code",
   "execution_count": 47,
   "id": "cfa55d47",
   "metadata": {},
   "outputs": [
    {
     "data": {
      "image/png": "[encoded data removed]",
      "text/plain": [
       "<Figure size 1000x1000 with 1 Axes>"
      ]
     },
     "metadata": {},
     "output_type": "display_data"
    }
   ],
   "source": [
    "plot_feature_importance(model, predictors, \"XGBOOST\")"
   ]
  },
  {
   "cell_type": "markdown",
   "id": "ff861f09",
   "metadata": {},
   "source": [
    "# References\n",
    "* https://www.kaggle.com/code/prashant111/a-guide-on-xgboost-hyperparameters-tuning/notebook (EN)\n",
    "* https://machinelearningmastery.com/configure-gradient-boosting-algorithm/ (EN)\n",
    "* https://habr.com/ru/post/540656/ (RU)\n",
    "* https://github.com/optuna/optuna/issues/966 (EN)"
   ]
  }
 ],
 "metadata": {
  "kernelspec": {
   "display_name": "core",
   "language": "python",
   "name": "core"
  },
  "language_info": {
   "codemirror_mode": {
    "name": "ipython",
    "version": 3
   },
   "file_extension": ".py",
   "mimetype": "text/x-python",
   "name": "python",
   "nbconvert_exporter": "python",
   "pygments_lexer": "ipython3",
   "version": "3.10.8"
  }
 },
 "nbformat": 4,
 "nbformat_minor": 5
}
